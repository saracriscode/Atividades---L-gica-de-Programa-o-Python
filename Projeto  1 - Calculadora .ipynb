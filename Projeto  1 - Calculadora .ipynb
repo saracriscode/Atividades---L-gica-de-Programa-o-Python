{
 "cells": [
  {
   "cell_type": "markdown",
   "id": "d0671887",
   "metadata": {},
   "source": [
    "# PROJETO 1 - CRIANDO UMA CALCULADORA\n",
    "\n",
    "Criar uma calculadora com as 4 operações matemáticas (soma, subtração, divisão e multiplicação)"
   ]
  },
  {
   "cell_type": "code",
   "execution_count": 9,
   "id": "df076d56",
   "metadata": {},
   "outputs": [
    {
     "name": "stdout",
     "output_type": "stream",
     "text": [
      "Bem-vindo a calculadora\n"
     ]
    }
   ],
   "source": [
    "print(\"Bem-vindo à calculadora\")"
   ]
  },
  {
   "cell_type": "markdown",
   "id": "235d011b",
   "metadata": {},
   "source": [
    "Criar duas variáveis para armazenar os valores que serão calculados\n"
   ]
  },
  {
   "cell_type": "code",
   "execution_count": 10,
   "id": "bf7422f6",
   "metadata": {},
   "outputs": [
    {
     "name": "stdout",
     "output_type": "stream",
     "text": [
      "Insira um valor: 10\n"
     ]
    }
   ],
   "source": [
    "numero_1 = float(input(\"Insira um valor: \"))"
   ]
  },
  {
   "cell_type": "code",
   "execution_count": 11,
   "id": "2d519dbd",
   "metadata": {},
   "outputs": [
    {
     "name": "stdout",
     "output_type": "stream",
     "text": [
      "Insira um outro valor: 20\n"
     ]
    }
   ],
   "source": [
    "numero_2 = float(input(\"Insira um outro valor: \"))"
   ]
  },
  {
   "cell_type": "markdown",
   "id": "27deaf0c",
   "metadata": {},
   "source": [
    "Criar uma variável e solicitar ao usuário que escolha as 4 operações matemáticas, experessa abaixo:"
   ]
  },
  {
   "cell_type": "code",
   "execution_count": 32,
   "id": "9590576e",
   "metadata": {},
   "outputs": [
    {
     "name": "stdout",
     "output_type": "stream",
     "text": [
      "Selecione uma operação (+, -, /, *): +\n"
     ]
    }
   ],
   "source": [
    "operacao = input(\"Selecione uma operação (+, -, /, *): \")"
   ]
  },
  {
   "cell_type": "markdown",
   "id": "91c5d032",
   "metadata": {},
   "source": [
    "Criar condicionais para cada opção que o usuário poderá escolher"
   ]
  },
  {
   "cell_type": "code",
   "execution_count": 33,
   "id": "722b29be",
   "metadata": {},
   "outputs": [
    {
     "name": "stdout",
     "output_type": "stream",
     "text": [
      "O resultado é:  30.0\n"
     ]
    }
   ],
   "source": [
    "if operacao == \"+\":\n",
    "    resultado = numero_1 + numero_2\n",
    "    print(\"O resultado é: \", resultado)\n",
    "    \n",
    "elif operacao == \"-\":\n",
    "    resultado = numero_1 + numero_2\n",
    "    print(\"O resultado é: \", resultado)\n",
    "    \n",
    "elif operacao == \"/\":\n",
    "    resultado = numero_1 + numero_2\n",
    "    print(\"O resultado é: \", resultado)\n",
    "    \n",
    "elif operacao == \"*\":\n",
    "    resultado = numero_1 + numero_2\n",
    "    print(\"O resultado é: \", resultado)\n",
    "    \n",
    "else:\n",
    "    print(\"Operação Inválida\")"
   ]
  },
  {
   "cell_type": "code",
   "execution_count": null,
   "id": "5c1d5600",
   "metadata": {},
   "outputs": [],
   "source": []
  }
 ],
 "metadata": {
  "kernelspec": {
   "display_name": "Python 3 (ipykernel)",
   "language": "python",
   "name": "python3"
  },
  "language_info": {
   "codemirror_mode": {
    "name": "ipython",
    "version": 3
   },
   "file_extension": ".py",
   "mimetype": "text/x-python",
   "name": "python",
   "nbconvert_exporter": "python",
   "pygments_lexer": "ipython3",
   "version": "3.9.13"
  }
 },
 "nbformat": 4,
 "nbformat_minor": 5
}
