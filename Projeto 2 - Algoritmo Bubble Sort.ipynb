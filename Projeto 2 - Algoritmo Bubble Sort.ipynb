{
 "cells": [
  {
   "cell_type": "markdown",
   "id": "7610ee69",
   "metadata": {},
   "source": [
    "# Projeto 2 - Criando um algoritmo Bubble Sort\n",
    "\n",
    "Criando um algoritmo de ordenação simples"
   ]
  },
  {
   "cell_type": "code",
   "execution_count": 1,
   "id": "90b6ffef",
   "metadata": {},
   "outputs": [],
   "source": [
    "lista = [6,7,8,3,10,19,4,1,0,61,30,16,17,82,29,34,43,21,11,39,56,67,12]"
   ]
  },
  {
   "cell_type": "markdown",
   "id": "4755465f",
   "metadata": {},
   "source": [
    "Utilizar a função def para definir o algoritmo bubble sort e organizar a lista em ordem crescente "
   ]
  },
  {
   "cell_type": "code",
   "execution_count": 2,
   "id": "ee1afe82",
   "metadata": {},
   "outputs": [],
   "source": [
    "def bubble_sort(arr):\n",
    "    n = len(arr)\n",
    "    \n",
    "    #Para cada elemento i do array \n",
    "    for i in range(n):\n",
    "        \n",
    "        #Para cada elemento j do array\n",
    "        for j in range(0, n-i-1):\n",
    "            \n",
    "            #Se o elemento i for maior que o elemento j\n",
    "            if arr[j]  > arr[j+1]:\n",
    "                \n",
    "                #Então troque os elementos i e j\n",
    "                arr[j], arr[j+1] = arr[j+1], arr[j]\n",
    "                \n",
    "                \n",
    "    return arr\n",
    "        \n",
    "    \n",
    "    "
   ]
  },
  {
   "cell_type": "code",
   "execution_count": 3,
   "id": "de76469d",
   "metadata": {},
   "outputs": [
    {
     "name": "stdout",
     "output_type": "stream",
     "text": [
      "[0, 1, 3, 4, 6, 7, 8, 10, 11, 12, 16, 17, 19, 21, 29, 30, 34, 39, 43, 56, 61, 67, 82]\n"
     ]
    }
   ],
   "source": [
    "print(bubble_sort(lista))"
   ]
  },
  {
   "cell_type": "code",
   "execution_count": null,
   "id": "80584dc2",
   "metadata": {},
   "outputs": [],
   "source": []
  }
 ],
 "metadata": {
  "kernelspec": {
   "display_name": "Python 3 (ipykernel)",
   "language": "python",
   "name": "python3"
  },
  "language_info": {
   "codemirror_mode": {
    "name": "ipython",
    "version": 3
   },
   "file_extension": ".py",
   "mimetype": "text/x-python",
   "name": "python",
   "nbconvert_exporter": "python",
   "pygments_lexer": "ipython3",
   "version": "3.9.13"
  }
 },
 "nbformat": 4,
 "nbformat_minor": 5
}
